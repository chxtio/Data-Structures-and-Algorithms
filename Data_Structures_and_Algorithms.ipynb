{
  "nbformat": 4,
  "nbformat_minor": 0,
  "metadata": {
    "colab": {
      "provenance": [],
      "collapsed_sections": [
        "a16ZXWGG0bK5",
        "bna-flqmq4tM"
      ],
      "authorship_tag": "ABX9TyPj4b2sPNIHSAqk1iUJO+TB",
      "include_colab_link": true
    },
    "kernelspec": {
      "name": "python3",
      "display_name": "Python 3"
    },
    "language_info": {
      "name": "python"
    }
  },
  "cells": [
    {
      "cell_type": "markdown",
      "metadata": {
        "id": "view-in-github",
        "colab_type": "text"
      },
      "source": [
        "<a href=\"https://colab.research.google.com/github/chxtio/Data-Structures-and-Algorithms/blob/main/Data_Structures_and_Algorithms.ipynb\" target=\"_parent\"><img src=\"https://colab.research.google.com/assets/colab-badge.svg\" alt=\"Open In Colab\"/></a>"
      ]
    },
    {
      "cell_type": "markdown",
      "source": [
        "# Data Structures and Algorithms- Python Implementation"
      ],
      "metadata": {
        "id": "-q_TQK8obz4Y"
      }
    },
    {
      "cell_type": "markdown",
      "source": [
        "# Arrays"
      ],
      "metadata": {
        "id": "MmcZyDdcAcJy"
      }
    },
    {
      "cell_type": "markdown",
      "source": [
        "# Strings"
      ],
      "metadata": {
        "id": "x3lkUWqxAdTY"
      }
    },
    {
      "cell_type": "markdown",
      "source": [
        "# Linked Lists"
      ],
      "metadata": {
        "id": "GoewgeDdArVX"
      }
    },
    {
      "cell_type": "markdown",
      "source": [
        "# Stacks and Queues"
      ],
      "metadata": {
        "id": "C7ESXErJ0ZAn"
      }
    },
    {
      "cell_type": "markdown",
      "source": [
        "## Stacks"
      ],
      "metadata": {
        "id": "VEJnxtIlBEXt"
      }
    },
    {
      "cell_type": "markdown",
      "source": [
        "## Queues\n",
        "https://www.geeksforgeeks.org/queue-in-python/\n",
        "\n",
        "https://www.geeksforgeeks.org/deque-in-python/"
      ],
      "metadata": {
        "id": "a16ZXWGG0bK5"
      }
    },
    {
      "cell_type": "code",
      "source": [
        "from collections import deque\n",
        "  \n",
        "# Initializing a queue\n",
        "q = deque()\n",
        "  \n",
        "# Adding elements to a queue\n",
        "q.append('a')\n",
        "q.append('b')\n",
        "q.append('c')\n",
        "  \n",
        "print(\"Initial queue\")\n",
        "print(q)\n",
        "  \n",
        "# Removing elements from a queue\n",
        "print(\"\\nElements dequeued from the queue\")\n",
        "print(q.popleft())\n",
        "print(q.popleft())\n",
        "print(q.popleft())\n",
        "  \n",
        "print(\"\\nQueue after removing elements\")\n",
        "print(q)\n",
        "  \n",
        "# Uncommenting q.popleft()\n",
        "# will raise an IndexError\n",
        "# as queue is now empty"
      ],
      "metadata": {
        "colab": {
          "base_uri": "https://localhost:8080/"
        },
        "id": "xTdRWGrjA5mw",
        "outputId": "14b6a313-83fc-40e7-bf84-cb296071261c"
      },
      "execution_count": 1,
      "outputs": [
        {
          "output_type": "stream",
          "name": "stdout",
          "text": [
            "Initial queue\n",
            "deque(['a', 'b', 'c'])\n",
            "\n",
            "Elements dequeued from the queue\n",
            "a\n",
            "b\n",
            "c\n",
            "\n",
            "Queue after removing elements\n",
            "deque([])\n"
          ]
        }
      ]
    },
    {
      "cell_type": "markdown",
      "source": [
        "# Trees 🌲"
      ],
      "metadata": {
        "id": "KgzwzgEKqGjO"
      }
    },
    {
      "cell_type": "markdown",
      "source": [
        "## Binary Trees\n",
        "https://guides.codepath.org/compsci/Binary-Trees"
      ],
      "metadata": {
        "id": "xva81TYXqMKS"
      }
    },
    {
      "cell_type": "markdown",
      "source": [
        "A binary tree is a tree data structure in which each node has at most two children, which are referred to as the left child and the right child\n",
        "<img src=\"https://www.geeksforgeeks.org/wp-content/uploads/binary-tree-to-DLL.png\" width=\"400\">\n"
      ],
      "metadata": {
        "id": "AqBknbKLqlSv"
      }
    },
    {
      "cell_type": "markdown",
      "source": [
        "## Binary Search Trees"
      ],
      "metadata": {
        "id": "AzKzw9Vjb6SO"
      }
    },
    {
      "cell_type": "markdown",
      "source": [
        "A BST is a binary tree where all left descendents <= node < all right descendents\n",
        "\n",
        "Due to this property, lookups in a BST take O(logN) time on average if the tree is well-balanced.\n",
        "<br/>\n",
        "<img src=\"https://media.geeksforgeeks.org/wp-content/uploads/BSTSearch.png\" width='400'>"
      ],
      "metadata": {
        "id": "PslyCeSnsZY-"
      }
    },
    {
      "cell_type": "markdown",
      "source": [
        "## Binary Tree Traversals"
      ],
      "metadata": {
        "id": "6coOo_vzjYmP"
      }
    },
    {
      "cell_type": "markdown",
      "source": [
        "### Depth First Search (DFS) "
      ],
      "metadata": {
        "id": "gNj9mlfy1DAT"
      }
    },
    {
      "cell_type": "markdown",
      "source": [
        "![image.png](data:image/png;base64,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)"
      ],
      "metadata": {
        "id": "1zOFkOr4cHmU"
      }
    },
    {
      "cell_type": "code",
      "execution_count": 4,
      "metadata": {
        "id": "h4CbT9k5bvKC"
      },
      "outputs": [],
      "source": [
        "class Node:\n",
        "  def __init__(self, val=0, left=None, right=None):\n",
        "    self.val = val\n",
        "    self.left = left\n",
        "    self.right = right"
      ]
    },
    {
      "cell_type": "code",
      "source": [
        "  root = Node(1, Node(2, Node(4), Node(5)), Node(3))"
      ],
      "metadata": {
        "id": "FzvKeEGgDkUU"
      },
      "execution_count": 7,
      "outputs": []
    },
    {
      "cell_type": "markdown",
      "source": [
        "#### Pre-Order Traversal\n",
        "Good for exploring roots before leaves. Example problems: copying a tree"
      ],
      "metadata": {
        "id": "BeyfvSDaCOR4"
      }
    },
    {
      "cell_type": "code",
      "source": [
        "def preorderTraversal(root):\n",
        "  if not root:\n",
        "    return\n",
        "  print(root.val, end=\" \")\n",
        "  preorderTraversal(root.left)\n",
        "  preorderTraversal(root.right)   "
      ],
      "metadata": {
        "id": "qpwrVeD7Ca_k"
      },
      "execution_count": 8,
      "outputs": []
    },
    {
      "cell_type": "code",
      "source": [
        "preorderTraversal(root) # 1 2 4 5 3"
      ],
      "metadata": {
        "colab": {
          "base_uri": "https://localhost:8080/"
        },
        "id": "CGxNInQuCwgs",
        "outputId": "6ec190eb-0a8a-48f8-9563-48ff677d3a24"
      },
      "execution_count": 9,
      "outputs": [
        {
          "output_type": "stream",
          "name": "stdout",
          "text": [
            "1 2 4 5 3 "
          ]
        }
      ]
    },
    {
      "cell_type": "markdown",
      "source": [
        "#### In-Order Traversal\n",
        "Good for exploring leaves before roots"
      ],
      "metadata": {
        "id": "BWHXmwHECguB"
      }
    },
    {
      "cell_type": "code",
      "source": [
        "def inorderTraversal(root):\n",
        "  if not root:\n",
        "    return\n",
        "  inorderTraversal(root.left)\n",
        "  print(root.val, end=\" \")\n",
        "  inorderTraversal(root.right)"
      ],
      "metadata": {
        "id": "boeOmtn5CeA0"
      },
      "execution_count": 10,
      "outputs": []
    },
    {
      "cell_type": "code",
      "source": [
        "inorderTraversal(root) # 4 2 5 1 3 "
      ],
      "metadata": {
        "colab": {
          "base_uri": "https://localhost:8080/"
        },
        "id": "8wHK0yYDDDkf",
        "outputId": "cc949363-d3e5-4e49-881c-575a7090ef32"
      },
      "execution_count": 13,
      "outputs": [
        {
          "output_type": "stream",
          "name": "stdout",
          "text": [
            "4 2 5 1 3 "
          ]
        }
      ]
    },
    {
      "cell_type": "markdown",
      "source": [
        "#### Post-Order Traversal\n",
        "Good for converting BST into an array"
      ],
      "metadata": {
        "id": "pjAmmUgzCi6k"
      }
    },
    {
      "cell_type": "code",
      "source": [
        "def postorderTraversal(root):\n",
        "  if not root:\n",
        "    return\n",
        "  postorderTraversal(root.left)\n",
        "  postorderTraversal(root.right)\n",
        "  print(root.val, end=\" \") "
      ],
      "metadata": {
        "id": "Nia8bbTJjmYY"
      },
      "execution_count": 15,
      "outputs": []
    },
    {
      "cell_type": "code",
      "source": [
        "postorderTraversal(root) # 4 5 2 3 1"
      ],
      "metadata": {
        "colab": {
          "base_uri": "https://localhost:8080/"
        },
        "id": "5_vQAMWN0Kv1",
        "outputId": "3d6dfd85-e6ee-47ca-e852-39ca0d38f17d"
      },
      "execution_count": 16,
      "outputs": [
        {
          "output_type": "stream",
          "name": "stdout",
          "text": [
            "4 5 2 3 1 "
          ]
        }
      ]
    },
    {
      "cell_type": "markdown",
      "source": [
        "### Breadth First Search (BFS) AKA Level Order Traversals"
      ],
      "metadata": {
        "id": "rFLmMQcD1LZh"
      }
    },
    {
      "cell_type": "code",
      "source": [
        "from collections import deque\n",
        "\n",
        "def levelorderTraversal(root):\n",
        "  if not root:\n",
        "    return\n",
        "\n",
        "  q = deque()\n",
        "  q.append(root)\n",
        "\n",
        "  while q:\n",
        "    node = q.popleft()\n",
        "    print(node.val, end=\" \")\n",
        "    if node.left:\n",
        "      q.append(node.left)\n",
        "    if node.right:\n",
        "      q.append(node.right)"
      ],
      "metadata": {
        "id": "pEzTmIo_1mfL"
      },
      "execution_count": 17,
      "outputs": []
    },
    {
      "cell_type": "code",
      "source": [
        "levelorderTraversal(root) # 1 2 3 4 5 "
      ],
      "metadata": {
        "colab": {
          "base_uri": "https://localhost:8080/"
        },
        "id": "m9UByroF3v12",
        "outputId": "c7db96ff-ef62-4da1-ba7f-6d44209770f6"
      },
      "execution_count": 18,
      "outputs": [
        {
          "output_type": "stream",
          "name": "stdout",
          "text": [
            "1 2 3 4 5 "
          ]
        }
      ]
    },
    {
      "cell_type": "markdown",
      "source": [
        "### Todo: DFS Iterative traversal\n",
        "https://leetcode.com/discuss/general-discussion/937307/iterative-recursive-dfs-bfs-tree-traversal-in-pre-post-levelorder-views\n",
        "\n",
        "https://leetcode.com/problems/deepest-leaves-sum/solutions/547634/official-solution/"
      ],
      "metadata": {
        "id": "Qlz_-XYPw37E"
      }
    },
    {
      "cell_type": "markdown",
      "source": [
        "# Graphs"
      ],
      "metadata": {
        "id": "mcqXldiAFJSm"
      }
    },
    {
      "cell_type": "markdown",
      "source": [
        "## Graph representations"
      ],
      "metadata": {
        "id": "HzWFMemwFai_"
      }
    },
    {
      "cell_type": "markdown",
      "source": [
        "### Adjacency Lists"
      ],
      "metadata": {
        "id": "L5rCcLwHFcdq"
      }
    },
    {
      "cell_type": "code",
      "source": [
        "G = {\n",
        "    0 : [1, 2, 3],\n",
        "    1 : [0, 3],\n",
        "    3 : [0, 1, 2, 4],\n",
        "    2 : [0, 3],\n",
        "    4 : [3]\n",
        "}\n",
        "print(G) # {0: [1, 2, 3], 1: [0, 3], 3: [0, 1, 2, 4], 2: [0, 3], 4: [3]}"
      ],
      "metadata": {
        "colab": {
          "base_uri": "https://localhost:8080/"
        },
        "id": "VCT5qGfkGBIP",
        "outputId": "f0227ffd-6ddc-4bcf-9296-53a6a6c6e7d0"
      },
      "execution_count": 23,
      "outputs": [
        {
          "output_type": "stream",
          "name": "stdout",
          "text": [
            "{0: [1, 2, 3], 1: [0, 3], 3: [0, 1, 2, 4], 2: [0, 3], 4: [3]}\n"
          ]
        }
      ]
    },
    {
      "cell_type": "markdown",
      "source": [
        "### Adjacency Matrix"
      ],
      "metadata": {
        "id": "cPtKOGPcFg8I"
      }
    },
    {
      "cell_type": "markdown",
      "source": [
        "## Graph Traversals\n",
        "\n",
        "*   Two main approaches:\n",
        "    *   Depth-first traversal\n",
        "    *   Breadth-first traversal\n",
        "\n"
      ],
      "metadata": {
        "id": "znb5SdBMGwRA"
      }
    },
    {
      "cell_type": "markdown",
      "source": [
        "![image](https://user-images.githubusercontent.com/33184844/128449218-b92f17b4-8bcd-4416-acaa-dd732deb9ff9.png)"
      ],
      "metadata": {
        "id": "fPURSs0YF7WP"
      }
    },
    {
      "cell_type": "markdown",
      "source": [
        "### Depth-First Search (DFS)\n",
        "DFS explores each branch completely before moving on to the next branch, going deep before it goes wide. DFS is implemented with a stack data structure (or the implicit recursion stack). DFS is preferred when one wants to visit every node in the graph.<br>https://www.educative.io/answers/how-to-implement-depth-first-search-in-python"
      ],
      "metadata": {
        "id": "Aq0QIlAGG-Aw"
      }
    },
    {
      "cell_type": "code",
      "source": [
        "visited = set() # Set to keep track of visited nodes.\n",
        "\n",
        "def DFS(visited, graph, node):\n",
        "    if node not in visited:\n",
        "        print (node, end=' ')\n",
        "        visited.add(node)\n",
        "        for neighbor in graph[node]:\n",
        "            DFS(visited, graph, neighbor)\n",
        "print()"
      ],
      "metadata": {
        "colab": {
          "base_uri": "https://localhost:8080/"
        },
        "id": "Bkhw2ZLhHIO-",
        "outputId": "09ac013f-867d-4785-a7b8-3de542b2b23d"
      },
      "execution_count": 31,
      "outputs": [
        {
          "output_type": "stream",
          "name": "stdout",
          "text": [
            "\n"
          ]
        }
      ]
    },
    {
      "cell_type": "code",
      "source": [
        "# Driver Code\n",
        "DFS(visited, G, 0)"
      ],
      "metadata": {
        "colab": {
          "base_uri": "https://localhost:8080/"
        },
        "id": "sIToQa1QHdIN",
        "outputId": "951494e8-d7e7-4a7f-c2f0-9ea54b23d39e"
      },
      "execution_count": 32,
      "outputs": [
        {
          "output_type": "stream",
          "name": "stdout",
          "text": [
            "0 1 3 2 4 "
          ]
        }
      ]
    },
    {
      "cell_type": "markdown",
      "source": [
        "### Breadth-First Search (BFS)\n",
        "In BFS, node A visits each of A's neighbors before visiting any of their neighbors. BFS is implemented iteratively using a queue. BFS is preferred when we want to find the shortest path (or any path) between two nodes.\n",
        "<br>https://www.geeksforgeeks.org/python-program-for-breadth-first-search-or-bfs-for-a-graph/"
      ],
      "metadata": {
        "id": "g0gcgpKXLa7k"
      }
    },
    {
      "cell_type": "code",
      "source": [
        "def BFS(graph, src):\n",
        "  visited = set()\n",
        "  queue = []\n",
        "\n",
        "  # Mark source node as visited and enqueue it\n",
        "  visited.add(src)\n",
        "  queue.append(src)\n",
        "\n",
        "  while queue:\n",
        "    # Remove a vertex from front of queue\n",
        "    node = queue.pop(0)\n",
        "    print (node, end=' ')\n",
        "    for neighbor in graph[node]:\n",
        "      if neighbor not in visited:\n",
        "        queue.append(neighbor)\n",
        "        visited.add(neighbor)"
      ],
      "metadata": {
        "id": "Re5uIioWNcBL"
      },
      "execution_count": 33,
      "outputs": []
    },
    {
      "cell_type": "code",
      "source": [
        "# Driver Code\n",
        "BFS(G, 0)"
      ],
      "metadata": {
        "colab": {
          "base_uri": "https://localhost:8080/"
        },
        "id": "YBnF7Ys0PVUM",
        "outputId": "6524be6c-73c7-448c-aaa3-6280c230e453"
      },
      "execution_count": 35,
      "outputs": [
        {
          "output_type": "stream",
          "name": "stdout",
          "text": [
            "0 1 2 3 4 "
          ]
        }
      ]
    },
    {
      "cell_type": "markdown",
      "source": [
        "# Sets\n"
      ],
      "metadata": {
        "id": "bna-flqmq4tM"
      }
    },
    {
      "cell_type": "markdown",
      "source": [
        "[Sets](https://www.w3schools.com/python/python_sets.asp)\n",
        "\n",
        "A set is a collection which is unordered, unchangeable*, and unindexed.\n",
        "* Note: Set items are unchangeable, but you can remove items and add new items."
      ],
      "metadata": {
        "id": "6XYN4en1rS0u"
      }
    },
    {
      "cell_type": "code",
      "source": [
        "thisset = set()\n",
        "thisset.add(1)\n",
        "thisset.add(2)\n",
        "thisset.add(3)\n",
        "print(thisset)"
      ],
      "metadata": {
        "colab": {
          "base_uri": "https://localhost:8080/"
        },
        "id": "N9bDY_t1q6fV",
        "outputId": "8191abe8-3b95-4be9-8b58-c71ff23acd48"
      },
      "execution_count": 19,
      "outputs": [
        {
          "output_type": "stream",
          "name": "stdout",
          "text": [
            "{1, 2, 3}\n"
          ]
        }
      ]
    },
    {
      "cell_type": "code",
      "source": [
        "x = (1,2,3)\n",
        "print(x)"
      ],
      "metadata": {
        "colab": {
          "base_uri": "https://localhost:8080/"
        },
        "id": "4iNj-9l0sN_n",
        "outputId": "b6152e47-7a35-4504-ca71-cc68960593b6"
      },
      "execution_count": 20,
      "outputs": [
        {
          "output_type": "stream",
          "name": "stdout",
          "text": [
            "(1, 2, 3)\n"
          ]
        }
      ]
    },
    {
      "cell_type": "code",
      "source": [
        "x[0] = 4"
      ],
      "metadata": {
        "id": "oW-zoj9QscGE",
        "outputId": "ad92e213-744b-4002-b9bf-08993784458e",
        "colab": {
          "base_uri": "https://localhost:8080/",
          "height": 172
        }
      },
      "execution_count": 21,
      "outputs": [
        {
          "output_type": "error",
          "ename": "TypeError",
          "evalue": "ignored",
          "traceback": [
            "\u001b[0;31m---------------------------------------------------------------------------\u001b[0m",
            "\u001b[0;31mTypeError\u001b[0m                                 Traceback (most recent call last)",
            "\u001b[0;32m<ipython-input-21-4fb93c654a12>\u001b[0m in \u001b[0;36m<module>\u001b[0;34m\u001b[0m\n\u001b[0;32m----> 1\u001b[0;31m \u001b[0mx\u001b[0m\u001b[0;34m[\u001b[0m\u001b[0;36m0\u001b[0m\u001b[0;34m]\u001b[0m \u001b[0;34m=\u001b[0m \u001b[0;36m4\u001b[0m\u001b[0;34m\u001b[0m\u001b[0;34m\u001b[0m\u001b[0m\n\u001b[0m",
            "\u001b[0;31mTypeError\u001b[0m: 'tuple' object does not support item assignment"
          ]
        }
      ]
    }
  ]
}